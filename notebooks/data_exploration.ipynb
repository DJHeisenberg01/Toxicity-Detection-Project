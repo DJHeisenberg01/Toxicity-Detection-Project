{
 "cells": [
  {
   "cell_type": "code",
   "execution_count": null,
   "id": "633ea48c",
   "metadata": {},
   "outputs": [],
   "source": [
    "import json\n",
    "import datetime\n",
    "#import pandas as pd\n",
    "from chat_downloader import ChatDownloader\n",
    "from chat_downloader.sites import TwitchChatDownloader\n",
    "import email, smtplib, ssl"
   ]
  },
  {
   "cell_type": "markdown",
   "id": "1d46156c",
   "metadata": {},
   "source": [
    "# Test singola stream"
   ]
  },
  {
   "cell_type": "code",
   "execution_count": null,
   "id": "06dd0f80",
   "metadata": {},
   "outputs": [],
   "source": [
    "url = \"https://www.twitch.tv/videos/2461361647\" # live di 8ore di dario\n",
    "chat = ChatDownloader().get_chat(url)\n",
    "\n",
    "messages = []\n",
    "\n",
    "for message in chat:\n",
    "    messages.append(message)\n",
    "# a me ha impiegato 1m30s"
   ]
  },
  {
   "cell_type": "code",
   "execution_count": null,
   "id": "79fdaa1f",
   "metadata": {},
   "outputs": [],
   "source": [
    "len(messages)"
   ]
  },
  {
   "cell_type": "code",
   "execution_count": null,
   "id": "dd5670f0",
   "metadata": {},
   "outputs": [],
   "source": [
    "messages[55]"
   ]
  },
  {
   "cell_type": "markdown",
   "id": "2147e4df",
   "metadata": {},
   "source": [
    "# Test molteplici streams"
   ]
  },
  {
   "cell_type": "code",
   "execution_count": null,
   "id": "bc08025e",
   "metadata": {},
   "outputs": [],
   "source": [
    "downloader = TwitchChatDownloader()\n",
    "N_vods = 3\n",
    "vods = downloader.get_user_videos(\"DarioMocciaTwitch\", limit=N_vods, sort=\"TIME\")"
   ]
  },
  {
   "cell_type": "code",
   "execution_count": null,
   "id": "bddda231",
   "metadata": {},
   "outputs": [],
   "source": [
    "vod_list = []\n",
    "for vod in vods:\n",
    "    vod_list.append(vod)"
   ]
  },
  {
   "cell_type": "code",
   "execution_count": null,
   "id": "90459333",
   "metadata": {},
   "outputs": [],
   "source": [
    "vod_list[0]"
   ]
  },
  {
   "cell_type": "code",
   "execution_count": null,
   "id": "bd99ab11",
   "metadata": {},
   "outputs": [],
   "source": [
    "id_list = []\n",
    "\n",
    "for j in range(0, len(vod_list)):\n",
    "    vod_id = vod_list[j][\"id\"]\n",
    "    id_list.append(vod_id)"
   ]
  },
  {
   "cell_type": "code",
   "execution_count": null,
   "id": "ac7a46d7",
   "metadata": {},
   "outputs": [],
   "source": [
    "id_list"
   ]
  },
  {
   "cell_type": "code",
   "execution_count": null,
   "id": "e19a782c",
   "metadata": {},
   "outputs": [],
   "source": [
    "DarioMocciaTwitch_vods = []\n",
    "for ids in id_list:\n",
    "    vod_url = \"https://www.twitch.tv/videos/\" + ids\n",
    "    DarioMocciaTwitch_vods.append(vod_url)\n"
   ]
  },
  {
   "cell_type": "code",
   "execution_count": null,
   "id": "e742f72e",
   "metadata": {},
   "outputs": [],
   "source": [
    "DarioMocciaTwitch_chats = {}\n",
    "\n",
    "for vod_url in DarioMocciaTwitch_vods:\n",
    "    chat = ChatDownloader().get_chat(vod_url)\n",
    "    message_list = []\n",
    "    for message in chat:\n",
    "        message_list.append(message)\n",
    "    DarioMocciaTwitch_chats[vod_url] = message_list\n",
    "# 10 minuti per 3 video"
   ]
  },
  {
   "cell_type": "code",
   "execution_count": null,
   "id": "dac60b2e",
   "metadata": {},
   "outputs": [],
   "source": [
    "#with open(\"convert.json\", \"w\") as convert_file:\n",
    "    #convert_file.write(json.dumps(DarioMocciaTwitch_chats, indent=4))"
   ]
  },
  {
   "cell_type": "code",
   "execution_count": null,
   "id": "327cabdd",
   "metadata": {},
   "outputs": [],
   "source": [
    "\n",
    "# Nuovo dizionario pulito\n",
    "cleaned_data = {}\n",
    "\n",
    "for video_url, messages in DarioMocciaTwitch_chats.items():\n",
    "    cleaned_messages = []\n",
    "    for msg in messages:\n",
    "        author = msg.get(\"author\", {})\n",
    "        name = author.get(\"name\", \"\")\n",
    "        message_text = msg.get(\"message\", \"\")\n",
    "        badges_full = author.get(\"badges\", [])\n",
    "        \n",
    "        # Estrai solo i nomi dei badge\n",
    "        badge_names = [badge.get(\"name\", \"\") for badge in badges_full]\n",
    "\n",
    "        cleaned_messages.append({\n",
    "            \"author\": name,\n",
    "            \"message\": message_text,\n",
    "            \"badges\": badge_names\n",
    "        })\n",
    "    cleaned_data[video_url] = cleaned_messages\n",
    "\n",
    "# Scrive il JSON pulito su un nuovo file\n",
    "with open(\"cleaned_convert.json\", \"w\") as f:\n",
    "    json.dump(cleaned_data, f, indent=4)\n"
   ]
  }
 ],
 "metadata": {
  "kernelspec": {
   "display_name": "NotSoResidentSleeper",
   "language": "python",
   "name": "python3"
  },
  "language_info": {
   "codemirror_mode": {
    "name": "ipython",
    "version": 3
   },
   "file_extension": ".py",
   "mimetype": "text/x-python",
   "name": "python",
   "nbconvert_exporter": "python",
   "pygments_lexer": "ipython3",
   "version": "3.11.11"
  }
 },
 "nbformat": 4,
 "nbformat_minor": 5
}
