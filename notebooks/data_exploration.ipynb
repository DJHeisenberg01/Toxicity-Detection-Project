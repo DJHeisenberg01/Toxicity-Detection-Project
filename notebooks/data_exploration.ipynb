{
 "cells": [
  {
   "cell_type": "code",
   "execution_count": 1,
   "id": "094d4bc0",
   "metadata": {},
   "outputs": [],
   "source": [
    "#!pip install chat_downloade"
   ]
  },
  {
   "cell_type": "code",
   "execution_count": 2,
   "id": "633ea48c",
   "metadata": {},
   "outputs": [],
   "source": [
    "import json\n",
    "import datetime\n",
    "#import pandas as pd\n",
    "from chat_downloader import ChatDownloader\n",
    "from chat_downloader.sites import TwitchChatDownloader\n",
    "import email, smtplib, ssl"
   ]
  },
  {
   "cell_type": "markdown",
   "id": "1d46156c",
   "metadata": {},
   "source": [
    "# Test singola stream"
   ]
  },
  {
   "cell_type": "code",
   "execution_count": 3,
   "id": "06dd0f80",
   "metadata": {},
   "outputs": [],
   "source": [
    "url = \"https://www.twitch.tv/videos/2461361647\" # live di 8ore di dario\n",
    "chat = ChatDownloader().get_chat(url)\n",
    "\n",
    "messages = []\n",
    "\n",
    "for message in chat:\n",
    "    messages.append(message)\n",
    "# a me ha impiegato 1m30s"
   ]
  },
  {
   "cell_type": "code",
   "execution_count": 4,
   "id": "79fdaa1f",
   "metadata": {},
   "outputs": [
    {
     "data": {
      "text/plain": [
       "12206"
      ]
     },
     "execution_count": 4,
     "metadata": {},
     "output_type": "execute_result"
    }
   ],
   "source": [
    "len(messages)"
   ]
  },
  {
   "cell_type": "code",
   "execution_count": 5,
   "id": "dd5670f0",
   "metadata": {},
   "outputs": [
    {
     "data": {
      "text/plain": [
       "{'message_id': '7a7c9dbf-a3f9-403e-adfa-cfdf11a4ccb5',\n",
       " 'author': {'id': '409212993',\n",
       "  'name': 'spl4iz',\n",
       "  'display_name': 'SpL4iZ',\n",
       "  'badges': [{'name': 'raging_wolf_helm',\n",
       "    'version': 1,\n",
       "    'title': 'Raging Wolf Helm',\n",
       "    'clickAction': None,\n",
       "    'clickURL': None,\n",
       "    'icons': [{'url': 'https://static-cdn.jtvnw.net/badges/v1/3ff668be-59a3-4e3e-96af-e6b2908b3171/1',\n",
       "      'width': 18,\n",
       "      'height': 18,\n",
       "      'id': '18x18'},\n",
       "     {'url': 'https://static-cdn.jtvnw.net/badges/v1/3ff668be-59a3-4e3e-96af-e6b2908b3171/2',\n",
       "      'width': 36,\n",
       "      'height': 36,\n",
       "      'id': '36x36'},\n",
       "     {'url': 'https://static-cdn.jtvnw.net/badges/v1/3ff668be-59a3-4e3e-96af-e6b2908b3171/3',\n",
       "      'width': 72,\n",
       "      'height': 72,\n",
       "      'id': '72x72'}]}],\n",
       "  'colour': '#00FF7F'},\n",
       " 'time_in_seconds': 228,\n",
       " 'timestamp': 1747501454389000,\n",
       " 'message': 'Expedition a gogó',\n",
       " 'time_text': '3:48',\n",
       " 'message_type': 'text_message'}"
      ]
     },
     "execution_count": 5,
     "metadata": {},
     "output_type": "execute_result"
    }
   ],
   "source": [
    "messages[55]"
   ]
  },
  {
   "cell_type": "markdown",
   "id": "2147e4df",
   "metadata": {},
   "source": [
    "# Test molteplici streams"
   ]
  },
  {
   "cell_type": "code",
   "execution_count": 6,
   "id": "bc08025e",
   "metadata": {},
   "outputs": [],
   "source": [
    "downloader = TwitchChatDownloader()\n",
    "N_vods = 3\n",
    "vods = downloader.get_user_videos(\"DarioMocciaTwitch\", limit=N_vods, sort=\"TIME\")"
   ]
  },
  {
   "cell_type": "code",
   "execution_count": 7,
   "id": "bddda231",
   "metadata": {},
   "outputs": [],
   "source": [
    "vod_list = []\n",
    "for vod in vods:\n",
    "    vod_list.append(vod)"
   ]
  },
  {
   "cell_type": "code",
   "execution_count": 8,
   "id": "90459333",
   "metadata": {},
   "outputs": [
    {
     "data": {
      "text/plain": [
       "{'animated_preview_url': 'https://d1m7jfoe9zdc1j.cloudfront.net/b07259789fdbc7726124_dariomocciatwitch_324000498045_1747508420/storyboards/2461361647-strip-0.jpg',\n",
       " 'game': {'box_art_url': 'https://static-cdn.jtvnw.net/ttv-boxart/509658-40x56.jpg',\n",
       "  'id': '509658',\n",
       "  'display_name': 'Just Chatting',\n",
       "  'name': 'Just Chatting'},\n",
       " 'id': '2461361647',\n",
       " 'duration': 30091,\n",
       " 'owner': {'display_name': 'DarioMocciaTwitch',\n",
       "  'id': '53065331',\n",
       "  'name': 'dariomocciatwitch',\n",
       "  'profile_image_url': 'https://static-cdn.jtvnw.net/jtv_user_pictures/73633088-8b11-4dad-b4ae-065f64f3a585-profile_image-50x50.png',\n",
       "  'colour': '000000'},\n",
       " 'preview_thumbnail_url': 'https://static-cdn.jtvnw.net/cf_vods/d1m7jfoe9zdc1j/b07259789fdbc7726124_dariomocciatwitch_324000498045_1747508420//thumb/thumb0-320x180.jpg',\n",
       " 'published_at': 1747501225000000,\n",
       " 'title': \"Un po' di chiacchiere, poi Expedition | Live extra a caso, domani parto per le ferie e torno il 28 !cuphead !prime\",\n",
       " 'views': 116266,\n",
       " 'resource_restriction': None}"
      ]
     },
     "execution_count": 8,
     "metadata": {},
     "output_type": "execute_result"
    }
   ],
   "source": [
    "vod_list[0]"
   ]
  },
  {
   "cell_type": "code",
   "execution_count": 9,
   "id": "bd99ab11",
   "metadata": {},
   "outputs": [],
   "source": [
    "id_list = []\n",
    "\n",
    "for j in range(0, len(vod_list)):\n",
    "    vod_id = vod_list[j][\"id\"]\n",
    "    id_list.append(vod_id)"
   ]
  },
  {
   "cell_type": "code",
   "execution_count": 10,
   "id": "ac7a46d7",
   "metadata": {},
   "outputs": [
    {
     "data": {
      "text/plain": [
       "['2461361647', '2460446107', '2459605724']"
      ]
     },
     "execution_count": 10,
     "metadata": {},
     "output_type": "execute_result"
    }
   ],
   "source": [
    "id_list"
   ]
  },
  {
   "cell_type": "code",
   "execution_count": 11,
   "id": "e19a782c",
   "metadata": {},
   "outputs": [],
   "source": [
    "DarioMocciaTwitch_vods = []\n",
    "for ids in id_list:\n",
    "    vod_url = \"https://www.twitch.tv/videos/\" + ids\n",
    "    DarioMocciaTwitch_vods.append(vod_url)\n"
   ]
  },
  {
   "cell_type": "code",
   "execution_count": 12,
   "id": "e742f72e",
   "metadata": {},
   "outputs": [],
   "source": [
    "DarioMocciaTwitch_chats = {}\n",
    "\n",
    "for vod_url in DarioMocciaTwitch_vods:\n",
    "    chat = ChatDownloader().get_chat(vod_url)\n",
    "    message_list = []\n",
    "    for message in chat:\n",
    "        message_list.append(message)\n",
    "    DarioMocciaTwitch_chats[vod_url] = message_list\n",
    "# 10 minuti per 3 video"
   ]
  },
  {
   "cell_type": "code",
   "execution_count": 13,
   "id": "dac60b2e",
   "metadata": {},
   "outputs": [],
   "source": [
    "#with open(\"convert.json\", \"w\") as convert_file:\n",
    "    #convert_file.write(json.dumps(DarioMocciaTwitch_chats, indent=4))"
   ]
  },
  {
   "cell_type": "code",
   "execution_count": 14,
   "id": "327cabdd",
   "metadata": {},
   "outputs": [],
   "source": [
    "\n",
    "# Nuovo dizionario pulito\n",
    "cleaned_data = {}\n",
    "\n",
    "for video_url, messages in DarioMocciaTwitch_chats.items():\n",
    "    cleaned_messages = []\n",
    "    for msg in messages:\n",
    "        author = msg.get(\"author\", {})\n",
    "        name = author.get(\"name\", \"\")\n",
    "        message_text = msg.get(\"message\", \"\")\n",
    "        badges_full = author.get(\"badges\", [])\n",
    "        \n",
    "        # Estrai solo i nomi dei badge\n",
    "        badge_names = [badge.get(\"name\", \"\") for badge in badges_full]\n",
    "\n",
    "        cleaned_messages.append({\n",
    "            \"author\": name,\n",
    "            \"message\": message_text,\n",
    "            \"badges\": badge_names\n",
    "        })\n",
    "    cleaned_data[video_url] = cleaned_messages\n",
    "\n",
    "# Scrive il JSON pulito su un nuovo file\n",
    "with open(\"cleaned_convert.json\", \"w\") as f:\n",
    "    json.dump(cleaned_data, f, indent=4)\n"
   ]
  }
 ],
 "metadata": {
  "kernelspec": {
   "display_name": "Python 3",
   "language": "python",
   "name": "python3"
  },
  "language_info": {
   "codemirror_mode": {
    "name": "ipython",
    "version": 3
   },
   "file_extension": ".py",
   "mimetype": "text/x-python",
   "name": "python",
   "nbconvert_exporter": "python",
   "pygments_lexer": "ipython3",
   "version": "3.11.4"
  }
 },
 "nbformat": 4,
 "nbformat_minor": 5
}
