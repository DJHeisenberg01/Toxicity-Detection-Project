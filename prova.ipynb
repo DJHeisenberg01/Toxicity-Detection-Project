{
 "cells": [
  {
   "cell_type": "code",
   "execution_count": null,
   "id": "094d4bc0",
   "metadata": {},
   "outputs": [],
   "source": [
    "#!pip install chat_downloade"
   ]
  },
  {
   "cell_type": "code",
   "execution_count": 49,
   "id": "633ea48c",
   "metadata": {},
   "outputs": [],
   "source": [
    "import json\n",
    "import datetime\n",
    "#import pandas as pd\n",
    "from chat_downloader import ChatDownloader\n",
    "from chat_downloader.sites import TwitchChatDownloader\n",
    "import email, smtplib, ssl"
   ]
  },
  {
   "cell_type": "markdown",
   "id": "1d46156c",
   "metadata": {},
   "source": [
    "# Test singola stream"
   ]
  },
  {
   "cell_type": "code",
   "execution_count": null,
   "id": "06dd0f80",
   "metadata": {},
   "outputs": [],
   "source": [
    "url = \"https://www.twitch.tv/videos/2461361647\" # live di 8ore di dario\n",
    "chat = ChatDownloader().get_chat(url)\n",
    "\n",
    "messages = []\n",
    "\n",
    "for message in chat:\n",
    "    messages.append(message)\n",
    "# a me ha impiegato 1m30s"
   ]
  },
  {
   "cell_type": "code",
   "execution_count": null,
   "id": "79fdaa1f",
   "metadata": {},
   "outputs": [],
   "source": [
    "len(messages)"
   ]
  },
  {
   "cell_type": "code",
   "execution_count": null,
   "id": "dd5670f0",
   "metadata": {},
   "outputs": [],
   "source": [
    "messages[55]"
   ]
  },
  {
   "cell_type": "markdown",
   "id": "2147e4df",
   "metadata": {},
   "source": [
    "# Test molteplici streams"
   ]
  },
  {
   "cell_type": "code",
   "execution_count": 50,
   "id": "bc08025e",
   "metadata": {},
   "outputs": [],
   "source": [
    "downloader = TwitchChatDownloader()\n",
    "N_vods = 3\n",
    "vods = downloader.get_user_videos(\"DarioMocciaTwitch\", limit=N_vods, sort=\"TIME\")"
   ]
  },
  {
   "cell_type": "code",
   "execution_count": 51,
   "id": "bddda231",
   "metadata": {},
   "outputs": [],
   "source": [
    "vod_list = []\n",
    "for vod in vods:\n",
    "    vod_list.append(vod)"
   ]
  },
  {
   "cell_type": "code",
   "execution_count": 52,
   "id": "90459333",
   "metadata": {},
   "outputs": [
    {
     "data": {
      "text/plain": [
       "{'animated_preview_url': 'https://d1m7jfoe9zdc1j.cloudfront.net/b07259789fdbc7726124_dariomocciatwitch_324000498045_1747508420/storyboards/2461361647-strip-0.jpg',\n",
       " 'game': {'box_art_url': 'https://static-cdn.jtvnw.net/ttv-boxart/509658-40x56.jpg',\n",
       "  'id': '509658',\n",
       "  'display_name': 'Just Chatting',\n",
       "  'name': 'Just Chatting'},\n",
       " 'id': '2461361647',\n",
       " 'duration': 30091,\n",
       " 'owner': {'display_name': 'DarioMocciaTwitch',\n",
       "  'id': '53065331',\n",
       "  'name': 'dariomocciatwitch',\n",
       "  'profile_image_url': 'https://static-cdn.jtvnw.net/jtv_user_pictures/73633088-8b11-4dad-b4ae-065f64f3a585-profile_image-50x50.png',\n",
       "  'colour': '000000'},\n",
       " 'preview_thumbnail_url': 'https://static-cdn.jtvnw.net/cf_vods/d1m7jfoe9zdc1j/b07259789fdbc7726124_dariomocciatwitch_324000498045_1747508420//thumb/thumb0-320x180.jpg',\n",
       " 'published_at': 1747501225000000,\n",
       " 'title': \"Un po' di chiacchiere, poi Expedition | Live extra a caso, domani parto per le ferie e torno il 28 !cuphead !prime\",\n",
       " 'views': 105680,\n",
       " 'resource_restriction': None}"
      ]
     },
     "execution_count": 52,
     "metadata": {},
     "output_type": "execute_result"
    }
   ],
   "source": [
    "vod_list[0]"
   ]
  },
  {
   "cell_type": "code",
   "execution_count": 53,
   "id": "bd99ab11",
   "metadata": {},
   "outputs": [],
   "source": [
    "id_list = []\n",
    "\n",
    "for j in range(0, len(vod_list)):\n",
    "    vod_id = vod_list[j][\"id\"]\n",
    "    id_list.append(vod_id)"
   ]
  },
  {
   "cell_type": "code",
   "execution_count": 54,
   "id": "ac7a46d7",
   "metadata": {},
   "outputs": [
    {
     "data": {
      "text/plain": [
       "['2461361647', '2460446107', '2459605724']"
      ]
     },
     "execution_count": 54,
     "metadata": {},
     "output_type": "execute_result"
    }
   ],
   "source": [
    "id_list"
   ]
  },
  {
   "cell_type": "code",
   "execution_count": 55,
   "id": "e19a782c",
   "metadata": {},
   "outputs": [],
   "source": [
    "DarioMocciaTwitch_vods = []\n",
    "for ids in id_list:\n",
    "    vod_url = \"https://www.twitch.tv/videos/\" + ids\n",
    "    DarioMocciaTwitch_vods.append(vod_url)\n"
   ]
  },
  {
   "cell_type": "code",
   "execution_count": null,
   "id": "e742f72e",
   "metadata": {},
   "outputs": [],
   "source": [
    "DarioMocciaTwitch_chats = {}\n",
    "\n",
    "for vod_url in DarioMocciaTwitch_vods:\n",
    "    chat = ChatDownloader().get_chat(vod_url)\n",
    "    message_list = []\n",
    "    for message in chat:\n",
    "        message_list.append(message)\n",
    "    DarioMocciaTwitch_chats[vod_url] = message_list\n",
    "# 10 minuti per 3 video"
   ]
  },
  {
   "cell_type": "code",
   "execution_count": 57,
   "id": "dac60b2e",
   "metadata": {},
   "outputs": [],
   "source": [
    "with open(\"convert.txt\", \"w\") as convert_file:\n",
    "    convert_file.write(json.dumps(DarioMocciaTwitch_chats))"
   ]
  }
 ],
 "metadata": {
  "kernelspec": {
   "display_name": "NotSoResidentSleeper",
   "language": "python",
   "name": "python3"
  },
  "language_info": {
   "codemirror_mode": {
    "name": "ipython",
    "version": 3
   },
   "file_extension": ".py",
   "mimetype": "text/x-python",
   "name": "python",
   "nbconvert_exporter": "python",
   "pygments_lexer": "ipython3",
   "version": "3.11.11"
  }
 },
 "nbformat": 4,
 "nbformat_minor": 5
}
